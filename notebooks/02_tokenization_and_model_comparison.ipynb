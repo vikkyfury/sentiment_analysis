{
 "cells": [
  {
   "cell_type": "code",
   "id": "initial_id",
   "metadata": {
    "collapsed": true,
    "ExecuteTime": {
     "end_time": "2025-07-23T22:41:28.745153Z",
     "start_time": "2025-07-23T22:41:27.837385Z"
    }
   },
   "source": [
    "import os\n",
    "import pandas as pd\n",
    "from sklearn.model_selection import train_test_split, cross_val_score\n",
    "from sklearn.feature_extraction.text import CountVectorizer, TfidfVectorizer, HashingVectorizer\n",
    "from sklearn.linear_model import LogisticRegression\n",
    "from sklearn.naive_bayes import MultinomialNB\n",
    "from sklearn.svm import LinearSVC\n",
    "from sklearn.pipeline import Pipeline\n",
    "from sklearn.metrics import accuracy_score, f1_score"
   ],
   "outputs": [],
   "execution_count": 1
  },
  {
   "metadata": {
    "ExecuteTime": {
     "end_time": "2025-07-23T22:41:44.639648Z",
     "start_time": "2025-07-23T22:41:44.465922Z"
    }
   },
   "cell_type": "code",
   "source": [
    "df = pd.read_csv(\"../data/processed/cleaned_data.csv\")\n",
    "X, y = df[\"clean_comment\"], df[\"category\"]\n",
    "X_train, X_test, y_train, y_test = train_test_split(X, y, test_size=0.2, random_state=42)\n"
   ],
   "id": "f0445d3545df503d",
   "outputs": [],
   "execution_count": 2
  },
  {
   "metadata": {
    "ExecuteTime": {
     "end_time": "2025-07-23T22:41:52.983951Z",
     "start_time": "2025-07-23T22:41:52.981374Z"
    }
   },
   "cell_type": "code",
   "source": [
    "tokenizers = {\n",
    "    \"Count\": CountVectorizer(),\n",
    "    \"TFIDF\": TfidfVectorizer(),\n",
    "    \"Hashing\": HashingVectorizer(n_features=5000, alternate_sign=False)\n",
    "}\n",
    "\n",
    "models = {\n",
    "    \"LogReg\": LogisticRegression(max_iter=200),\n",
    "    \"NaiveBayes\": MultinomialNB(),\n",
    "    \"SVM\": LinearSVC()\n",
    "}\n"
   ],
   "id": "8643327d8e6b4857",
   "outputs": [],
   "execution_count": 3
  },
  {
   "metadata": {
    "ExecuteTime": {
     "end_time": "2025-07-23T22:43:49.047309Z",
     "start_time": "2025-07-23T22:42:25.136853Z"
    }
   },
   "cell_type": "code",
   "source": [
    "# cross Validation\n",
    "results = []\n",
    "for tname, tok in tokenizers.items():\n",
    "    for mname, model in models.items():\n",
    "        pipe = Pipeline([(\"tok\", tok), (\"clf\", model)])\n",
    "        scores = cross_val_score(pipe, X_train, y_train, cv=5, scoring=\"f1_macro\")\n",
    "        results.append({\n",
    "            \"tokenizer\": tname,\n",
    "            \"model\": mname,\n",
    "            \"f1_mean\": scores.mean(),\n",
    "            \"f1_std\": scores.std()\n",
    "        })\n",
    "results_df = pd.DataFrame(results).sort_values(\"f1_mean\", ascending=False)\n",
    "results_df\n"
   ],
   "id": "7dd49eeab64b0267",
   "outputs": [
    {
     "data": {
      "text/plain": [
       "  tokenizer       model   f1_mean    f1_std\n",
       "2     Count         SVM  0.984915  0.000541\n",
       "5     TFIDF         SVM  0.981718  0.000918\n",
       "0     Count      LogReg  0.978978  0.001380\n",
       "3     TFIDF      LogReg  0.959589  0.002466\n",
       "8   Hashing         SVM  0.877370  0.002995\n",
       "6   Hashing      LogReg  0.873381  0.002379\n",
       "1     Count  NaiveBayes  0.802287  0.003639\n",
       "7   Hashing  NaiveBayes  0.719989  0.001442\n",
       "4     TFIDF  NaiveBayes  0.638994  0.000972"
      ],
      "text/html": [
       "<div>\n",
       "<style scoped>\n",
       "    .dataframe tbody tr th:only-of-type {\n",
       "        vertical-align: middle;\n",
       "    }\n",
       "\n",
       "    .dataframe tbody tr th {\n",
       "        vertical-align: top;\n",
       "    }\n",
       "\n",
       "    .dataframe thead th {\n",
       "        text-align: right;\n",
       "    }\n",
       "</style>\n",
       "<table border=\"1\" class=\"dataframe\">\n",
       "  <thead>\n",
       "    <tr style=\"text-align: right;\">\n",
       "      <th></th>\n",
       "      <th>tokenizer</th>\n",
       "      <th>model</th>\n",
       "      <th>f1_mean</th>\n",
       "      <th>f1_std</th>\n",
       "    </tr>\n",
       "  </thead>\n",
       "  <tbody>\n",
       "    <tr>\n",
       "      <th>2</th>\n",
       "      <td>Count</td>\n",
       "      <td>SVM</td>\n",
       "      <td>0.984915</td>\n",
       "      <td>0.000541</td>\n",
       "    </tr>\n",
       "    <tr>\n",
       "      <th>5</th>\n",
       "      <td>TFIDF</td>\n",
       "      <td>SVM</td>\n",
       "      <td>0.981718</td>\n",
       "      <td>0.000918</td>\n",
       "    </tr>\n",
       "    <tr>\n",
       "      <th>0</th>\n",
       "      <td>Count</td>\n",
       "      <td>LogReg</td>\n",
       "      <td>0.978978</td>\n",
       "      <td>0.001380</td>\n",
       "    </tr>\n",
       "    <tr>\n",
       "      <th>3</th>\n",
       "      <td>TFIDF</td>\n",
       "      <td>LogReg</td>\n",
       "      <td>0.959589</td>\n",
       "      <td>0.002466</td>\n",
       "    </tr>\n",
       "    <tr>\n",
       "      <th>8</th>\n",
       "      <td>Hashing</td>\n",
       "      <td>SVM</td>\n",
       "      <td>0.877370</td>\n",
       "      <td>0.002995</td>\n",
       "    </tr>\n",
       "    <tr>\n",
       "      <th>6</th>\n",
       "      <td>Hashing</td>\n",
       "      <td>LogReg</td>\n",
       "      <td>0.873381</td>\n",
       "      <td>0.002379</td>\n",
       "    </tr>\n",
       "    <tr>\n",
       "      <th>1</th>\n",
       "      <td>Count</td>\n",
       "      <td>NaiveBayes</td>\n",
       "      <td>0.802287</td>\n",
       "      <td>0.003639</td>\n",
       "    </tr>\n",
       "    <tr>\n",
       "      <th>7</th>\n",
       "      <td>Hashing</td>\n",
       "      <td>NaiveBayes</td>\n",
       "      <td>0.719989</td>\n",
       "      <td>0.001442</td>\n",
       "    </tr>\n",
       "    <tr>\n",
       "      <th>4</th>\n",
       "      <td>TFIDF</td>\n",
       "      <td>NaiveBayes</td>\n",
       "      <td>0.638994</td>\n",
       "      <td>0.000972</td>\n",
       "    </tr>\n",
       "  </tbody>\n",
       "</table>\n",
       "</div>"
      ]
     },
     "execution_count": 5,
     "metadata": {},
     "output_type": "execute_result"
    }
   ],
   "execution_count": 5
  },
  {
   "metadata": {
    "ExecuteTime": {
     "end_time": "2025-07-23T22:44:19.668627Z",
     "start_time": "2025-07-23T22:44:13.565445Z"
    }
   },
   "cell_type": "code",
   "source": [
    "#Evaluate on test set\n",
    "best = results_df.iloc[0]\n",
    "pipe = Pipeline([\n",
    "    (\"tok\", tokenizers[best.tokenizer]),\n",
    "    (\"clf\", models[best.model])\n",
    "])\n",
    "pipe.fit(X_train, y_train)\n",
    "preds = pipe.predict(X_test)\n",
    "print(\"Test Accuracy:\", accuracy_score(y_test, preds))\n",
    "print(\"Test F1 Macro:\", f1_score(y_test, preds, average=\"macro\"))\n"
   ],
   "id": "104b5989c71e646b",
   "outputs": [
    {
     "name": "stdout",
     "output_type": "stream",
     "text": [
      "Test Accuracy: 0.9857971850854413\n",
      "Test F1 Macro: 0.985563067077082\n"
     ]
    }
   ],
   "execution_count": 6
  },
  {
   "metadata": {
    "ExecuteTime": {
     "end_time": "2025-07-23T22:44:24.684280Z",
     "start_time": "2025-07-23T22:44:24.367724Z"
    }
   },
   "cell_type": "code",
   "source": [
    "# visualize\n",
    "results_df.plot.bar(x=\"tokenizer\", y=\"f1_mean\", yerr=\"f1_std\", rot=0, legend=False)\n"
   ],
   "id": "1bd052f4ecf24ad3",
   "outputs": [
    {
     "data": {
      "text/plain": [
       "<Axes: xlabel='tokenizer'>"
      ]
     },
     "execution_count": 7,
     "metadata": {},
     "output_type": "execute_result"
    },
    {
     "data": {
      "text/plain": [
       "<Figure size 640x480 with 1 Axes>"
      ],
      "image/png": "[encoded data removed]"
     },
     "metadata": {},
     "output_type": "display_data"
    }
   ],
   "execution_count": 7
  },
  {
   "metadata": {},
   "cell_type": "code",
   "outputs": [],
   "execution_count": null,
   "source": "",
   "id": "ca0596de0f7ebbca"
  }
 ],
 "metadata": {
  "kernelspec": {
   "display_name": "Python 3",
   "language": "python",
   "name": "python3"
  },
  "language_info": {
   "codemirror_mode": {
    "name": "ipython",
    "version": 2
   },
   "file_extension": ".py",
   "mimetype": "text/x-python",
   "name": "python",
   "nbconvert_exporter": "python",
   "pygments_lexer": "ipython2",
   "version": "2.7.6"
  }
 },
 "nbformat": 4,
 "nbformat_minor": 5
}
